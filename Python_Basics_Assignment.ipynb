{
  "nbformat": 4,
  "nbformat_minor": 0,
  "metadata": {
    "colab": {
      "provenance": []
    },
    "kernelspec": {
      "name": "python3",
      "display_name": "Python 3"
    },
    "language_info": {
      "name": "python"
    }
  },
  "cells": [
    {
      "cell_type": "markdown",
      "source": [
        "#Python Basics"
      ],
      "metadata": {
        "id": "eq8jvlMX14z1"
      }
    },
    {
      "cell_type": "markdown",
      "source": [
        "#Theory Questions"
      ],
      "metadata": {
        "id": "eACt0YmYCMm3"
      }
    },
    {
      "cell_type": "markdown",
      "source": [
        "1. What is Python, and why is it popular?\n",
        "  - Python is a high-level, interpreted programming language known for its readability, simplicity, and versatility. and it is popular for below reasons:\n",
        "  (i) Ease of learning and use.\n",
        "  (ii) Versatality.\n",
        "  (iii) Large community and support.\n",
        "  (iv) Extensive library and Framework\n",
        "  (v) Intigration  capabilities\n",
        "  (vi) Cross Plateform\n",
        "  (vii) Open source\n",
        "  Overall, Python's combination of simplicity, power, and flexibility has made it one of the most popular programming languages in the world.\n",
        "\n",
        "2. What is an interpreter in Python?\n",
        "  - In Python, an interpreter is a program that executes Python code line by line. It reads the Python source code, interprets it, and then runs the program.\n",
        "\n",
        "3. What are pre-defined keywords in Python?\n",
        "  - In Python, pre-defined keywords are reserved words that have a specific meaning and function within the language. These keywords cannot be used as identifiers.\n",
        "  - Predefined keywords are: False, None, True, and, as, assert, async, await, break, class, continue, def, del, elif, else, except, finally,for, from, globa, , if, import, in, is, lambda, nonlocal, not, or, pass, raise, return, try, while, with, yield.\n",
        "\n",
        "4. Can keywords be used as variable names?\n",
        "  - Keywords are not used as variable names.\n",
        "\n",
        "5. What is mutability in Python?\n",
        "  - Mutability in Python refers to whether or not an object can be modified after it is created.\n",
        "\n",
        "6. Why are lists mutable, but tuples are immutable?\n",
        "  - Lists are mutable, meaning you can change their contents after they are created.\n",
        "  Tuples are immutable. Once a tuple is created, its contents cannot be changed, which can provide benefits such as safer code and fewer side effects.\n",
        "\n",
        "7. What is the difference between “==” and “is” operators in Python?\n",
        "  - when we're checking for value equality, we use ==. When we're checking if two variables refer to the same object in memory, we use is.\n",
        "\n",
        "8. What are logical operators in Python?\n",
        "  - Logical operators are key to building complex conditional expressions and controlling the flow of Python programs. There are three main logical operators-\n",
        "  - and: True if both condition are true\n",
        "  - or: True if any one condition is true\n",
        "  - not: Inverts the boolean value of the condition.\n",
        "\n",
        "9. What is type casting in Python?\n",
        "  - Type casting is useful for ensuring compatibility between different data types during operations or user input handling. It is mainly two type:\n",
        "  - Implicit Type Casting/Automatic Type Conversion :  Python automatically converts the lower type to the higher type to prevent data loss.\n",
        "  - Explicit Type Casting/Manual Type Conversion : usin functions like- int(), float(), str(), bool().\n",
        "\n",
        "10. What is the difference between implicit and explicit type casting?\n",
        "  -  Implicit casting happens automatically, while explicit casting requires the programmer's intervention. It happens when there is no risk of losing data, while explicit casting can result in data loss.\n",
        "\n",
        "11. What is the purpose of conditional statements in Python?\n",
        "  - Conditional statements in Python are used to control the flow of a program by allowing us to execute certain blocks of code based on whether a condition is true or false. This helps us make decisions and create more dynamic and flexible programs.\n",
        "  - Types of conditional statements in Python are- if, if-else, elif (else if), nested-if-else\n",
        "\n",
        "12. How does the elif statement work?\n",
        "  - The elif statement in Python is used to check multiple conditions in a sequence. It allows us to test several different conditions after an initial if statement. If the condition in the if statement is false, the elif block is checked, and if that condition is true, the code inside the elif block will be executed. If none of the if or elif conditions are true, the else block (if provided) will be executed\n",
        "\n",
        "13. What is the difference between for and while loops?\n",
        "  - for loop are iterating over a known sequence (like a list, string, or range). We know the number of iterations in advance. But in while loops the number of iterations is not known beforehand. We want the loop to continue until a certain condition becomes False.\n",
        "\n",
        "14. Describe a scenario where a while loop is more suitable than a for loop?\n",
        "  - Imagine we are creating a program where the user is prompted to enter a valid password. The program needs to keep asking the user for a password until it meets the required criteria, Like - the password should be at least 8 characters long and contain a number. we don't know how many attempts the user will need, so we need to repeat the process until the condition is satisfied.\n",
        "  In this case, a while loop is more suitable because the number of attempts is not known beforehand, and the loop should continue running until the user enters a valid password."
      ],
      "metadata": {
        "id": "uMwM0Bjt0uIj"
      }
    },
    {
      "cell_type": "markdown",
      "source": [
        "#Practical Questions"
      ],
      "metadata": {
        "id": "gdcW0K7yCgVq"
      }
    },
    {
      "cell_type": "code",
      "source": [
        "# 1. Write a Python program to print \"Hello, World!\"\n",
        "\n",
        "print(\"Hello, world!\")\n"
      ],
      "metadata": {
        "id": "SZ7uevelC7tr"
      },
      "execution_count": null,
      "outputs": []
    },
    {
      "cell_type": "code",
      "source": [
        "# 2. Write a Python program that displays your name and age.\n",
        "\n",
        "name = input(\"Enter your name: \")\n",
        "age = input(\"Enter your age: \")\n",
        "print(\"Name:\", name)\n",
        "print(\"Age:\", age)"
      ],
      "metadata": {
        "id": "YDv_ChFBEjZM"
      },
      "execution_count": null,
      "outputs": []
    },
    {
      "cell_type": "code",
      "source": [
        "# 3. Write code to print all the pre-defined keywords in Python using the keyword library.\n",
        "\n",
        "import keyword\n",
        "print(keyword.kwlist)"
      ],
      "metadata": {
        "id": "Z22WIjigFIvx"
      },
      "execution_count": null,
      "outputs": []
    },
    {
      "cell_type": "code",
      "source": [
        "# 4.Write a program that checks if a given word is a Python keyword.\n",
        "\n",
        "import keyword\n",
        "word = input(\"Enter aword: \")\n",
        "if keyword.iskeyword(word):\n",
        "  print(word, \"is a pyhton keyword\")\n",
        "else:\n",
        "    print(word, \"is not a python keyword\")"
      ],
      "metadata": {
        "id": "igfxH__mGVzW"
      },
      "execution_count": null,
      "outputs": []
    },
    {
      "cell_type": "code",
      "source": [
        "''' 5. Create a list and tuple in Python, and demonstrate how attempting to change an element works differently\n",
        "for each.'''\n",
        "\n",
        "# creating list\n",
        "my_list = [1, 2, 3, 4]\n",
        "print(\"Original list:\", my_list)\n",
        "# changing element in list\n",
        "my_list[2] = 5\n",
        "print(\"Modified list:\", my_list)\n",
        "\n",
        "# creating tuple\n",
        "my_tuple = (1, 2, 3, 4)\n",
        "print(\"Original tuple:\", my_tuple)\n",
        "# changing element in tuple\n",
        "my_tuple[2] = 5\n",
        "print(\"Modified tuple:\", my_tuple)\n",
        "\n",
        "''' list are mutable and tuple are immutable so attempting to modify and element result in a TypeError.\n",
        "\" 'tuple' object does not support item assignment\" '''"
      ],
      "metadata": {
        "id": "yJYidUC6Of3n"
      },
      "execution_count": null,
      "outputs": []
    },
    {
      "cell_type": "code",
      "source": [
        "# 6. Write a function to demonstrate the behavior of mutable and immutable arguments.\n",
        "\n",
        "''' Answer: Function and Data structure is not covered (taught) till module 3. I know basic of data structure but not about function.\n",
        "I google it answer but anable to undertand it's working that's why I'm skipping this question '''"
      ],
      "metadata": {
        "id": "OiENqlblT5xB"
      },
      "execution_count": null,
      "outputs": []
    },
    {
      "cell_type": "code",
      "source": [
        "# 7. Question No. 6 and Question No. 7 both are same."
      ],
      "metadata": {
        "id": "WqumviS7L_WW"
      },
      "execution_count": null,
      "outputs": []
    },
    {
      "cell_type": "code",
      "source": [
        "#8. Write a program to demonstrate the use of logical operators.\n",
        "\n",
        "age = 2\n",
        "has_license = True\n",
        "\n",
        "if age >= 18 and has_license:\n",
        "  print(\"Eligible to drive\")\n",
        "elif age >= 18 or not has_license:\n",
        "  print(\"Age is less less than 18 or does not have license.\")\n",
        "else:\n",
        "    print(\"Not eligible to drive\")"
      ],
      "metadata": {
        "id": "2EJYesokMj5v"
      },
      "execution_count": null,
      "outputs": []
    },
    {
      "cell_type": "code",
      "source": [
        "# 9. Write a Python program to convert user input from string to integer, float, and boolean types.\n",
        "\n",
        "user_input = input(\"Enter a value: \")\n",
        "\n",
        "user_input_as_int = int(user_input)\n",
        "user_input_as_float = float(user_input)\n",
        "user_input_as_boolean = bool(user_input)\n",
        "\n",
        "print(\"Input type is \", type(user_input))\n",
        "print(\"string to integer:\", user_input_as_int)\n",
        "print(\"string to float:\", user_input_as_float)\n",
        "print(\"string to boolean:\", user_input_as_boolean)"
      ],
      "metadata": {
        "id": "iCsvdsshpYW-"
      },
      "execution_count": null,
      "outputs": []
    },
    {
      "cell_type": "code",
      "source": [
        "# 10. Write code to demonstrate type casting with list elements.\n",
        "\n",
        "my_list = [\"10\", \"30.5\", \"True\", \"False\", \"100\"]\n",
        "\n",
        "casted_list = [\n",
        "    int(my_list[0]),\n",
        "    float(my_list[1]),\n",
        "    bool(my_list[2]),\n",
        "    bool(my_list[3]),\n",
        "    int(my_list[4])\n",
        "]\n",
        "print(\"Original List:\", my_list)\n",
        "print(\"Casted List:\", casted_list)\n"
      ],
      "metadata": {
        "id": "arpYzf8lr-h6"
      },
      "execution_count": null,
      "outputs": []
    },
    {
      "cell_type": "code",
      "source": [
        "# 11. Write a program that checks if a number is positive, negative, or zero.\n",
        "\n",
        "number = float(input(\"Enter a number: \"))\n",
        "if number > 0:\n",
        "  print(\"Number is positive\")\n",
        "elif number < 0:\n",
        "  print(\"Number is negative\")\n",
        "else:\n",
        "  print(\"Number is Zero\")"
      ],
      "metadata": {
        "id": "gD0raKXt9kbx"
      },
      "execution_count": null,
      "outputs": []
    },
    {
      "cell_type": "code",
      "source": [
        "# 12. Write a for loop to print numbers from 1 to 100.\n",
        "\n",
        "for i in range(1, 101):\n",
        "  print(i)"
      ],
      "metadata": {
        "collapsed": true,
        "id": "8dyddccAV71l"
      },
      "execution_count": null,
      "outputs": []
    },
    {
      "cell_type": "code",
      "source": [
        "# 13 Write a Python program to find the sum of all even numbers between 1 and 50.\n",
        "\n",
        "some_of_even_numbers = 0\n",
        "for i in range(2, 51, 2):\n",
        "  some_of_even_numbers += i\n",
        "print(\"Some of all even numbrs between 1 to 50 is : \", some_of_even_numbers)"
      ],
      "metadata": {
        "id": "7HM_QdG6X_oH"
      },
      "execution_count": null,
      "outputs": []
    },
    {
      "cell_type": "code",
      "source": [
        "# 14. Write a program to reverse a string using a while loop.\n",
        "\n",
        "string = input(\"Enter a string: \")\n",
        "reversed_string = \"\"\n",
        "index = len(string) - 1\n",
        "while index >= 0:\n",
        "  reversed_string += string[index]\n",
        "  index -= 1\n",
        "print(\"Reversed_string: \", reversed_string)"
      ],
      "metadata": {
        "id": "GtclOc3CaR_H"
      },
      "execution_count": null,
      "outputs": []
    },
    {
      "cell_type": "code",
      "source": [
        "# 15. Write a Python program to calculate the factorial of a number provided by the user using a while loop.\n",
        "\n",
        "number = int(input(\"Enter anumber: \"))\n",
        "factorial = 1\n",
        "current_number = 1\n",
        "while current_number <= number:\n",
        "  factorial *= current_number\n",
        "  current_number += 1\n",
        "print(\"Factorial of\", number, \"is\", factorial)"
      ],
      "metadata": {
        "id": "Sk6Jev87f1IE"
      },
      "execution_count": null,
      "outputs": []
    },
    {
      "cell_type": "code",
      "source": [],
      "metadata": {
        "id": "PoNTWENEk4z3"
      },
      "execution_count": null,
      "outputs": []
    }
  ]
}